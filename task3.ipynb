{
 "cells": [
  {
   "cell_type": "code",
   "execution_count": 1,
   "metadata": {},
   "outputs": [],
   "source": [
    "import numpy as np\n",
    "import pandas as pd\n",
    "import seaborn as sns\n",
    "import matplotlib.pyplot as plt"
   ]
  },
  {
   "cell_type": "code",
   "execution_count": 2,
   "metadata": {},
   "outputs": [],
   "source": [
    "from sklearn.pipeline import Pipeline\n",
    "from sklearn.model_selection import train_test_split, cross_validate\n",
    "from sklearn.preprocessing import PolynomialFeatures, StandardScaler\n",
    "from sklearn.linear_model import LinearRegression, Lasso, Ridge\n",
    "from sklearn.metrics import mean_squared_error\n",
    "from sklearn import set_config"
   ]
  },
  {
   "cell_type": "code",
   "execution_count": 4,
   "metadata": {},
   "outputs": [
    {
     "ename": "TypeError",
     "evalue": "set_config() got an unexpected keyword argument 'display'",
     "output_type": "error",
     "traceback": [
      "\u001b[1;31m---------------------------------------------------------------------------\u001b[0m",
      "\u001b[1;31mTypeError\u001b[0m                                 Traceback (most recent call last)",
      "\u001b[1;32m<ipython-input-4-98e79cc214e6>\u001b[0m in \u001b[0;36m<module>\u001b[1;34m\u001b[0m\n\u001b[1;32m----> 1\u001b[1;33m \u001b[0mset_config\u001b[0m\u001b[1;33m(\u001b[0m\u001b[0mdisplay\u001b[0m\u001b[1;33m=\u001b[0m\u001b[1;34m'diagram'\u001b[0m\u001b[1;33m)\u001b[0m\u001b[1;33m\u001b[0m\u001b[1;33m\u001b[0m\u001b[0m\n\u001b[0m",
      "\u001b[1;31mTypeError\u001b[0m: set_config() got an unexpected keyword argument 'display'"
     ]
    }
   ],
   "source": [
    "set_config(display='diagram')\n"
   ]
  },
  {
   "cell_type": "code",
   "execution_count": 5,
   "metadata": {},
   "outputs": [],
   "source": [
    "\n",
    "SEED = 42\n",
    "RANGE = (-5, 5)\n",
    "N_SAMPLES = 50\n",
    "DEGREES = np.linspace(0, 15, 1 + 15, dtype=int)\n",
    "ALPHAS = np.linspace(0, 0.5, 1 + 40)"
   ]
  },
  {
   "cell_type": "code",
   "execution_count": 6,
   "metadata": {},
   "outputs": [],
   "source": [
    "\n",
    "def target_function(x):\n",
    "    return 2 * x + 10 * np.sin(x)\n",
    "\n",
    "def generate_samples():\n",
    "    \"\"\"Generate noisy samples.\"\"\"\n",
    "    np.random.seed(SEED)\n",
    "    x = np.random.uniform(*RANGE, size=N_SAMPLES)\n",
    "    y = target_function(x) + np.random.normal(scale=4, size=N_SAMPLES)\n",
    "    return x.reshape(-1, 1), y\n",
    "\n",
    "X, y = generate_samples()"
   ]
  },
  {
   "cell_type": "code",
   "execution_count": 7,
   "metadata": {},
   "outputs": [
    {
     "data": {
      "image/png": "[encoded data removed]",
      "text/plain": [
       "<Figure size 432x288 with 1 Axes>"
      ]
     },
     "metadata": {
      "needs_background": "light"
     },
     "output_type": "display_data"
    }
   ],
   "source": [
    "def plot_scatter(x, y, title=None, label='Noisy samples'):\n",
    "    plt.scatter(x, y, label=label)\n",
    "    plt.xlabel('x')\n",
    "    plt.ylabel('y')\n",
    "    plt.grid(True)\n",
    "    plt.title(title)\n",
    "    plt.legend(loc='lower right')\n",
    "\n",
    "plot_scatter(X, y)"
   ]
  },
  {
   "cell_type": "code",
   "execution_count": 8,
   "metadata": {},
   "outputs": [
    {
     "data": {
      "image/png": "[encoded data removed]",
      "text/plain": [
       "<Figure size 432x288 with 1 Axes>"
      ]
     },
     "metadata": {
      "needs_background": "light"
     },
     "output_type": "display_data"
    }
   ],
   "source": [
    "X_train, X_valid, y_train, y_valid = train_test_split(X, y, test_size=0.3, random_state=SEED)\n",
    "\n",
    "plot_scatter(X_train, y_train, label='Training set')\n",
    "plot_scatter(X_valid, y_valid, label='Validation set')"
   ]
  },
  {
   "cell_type": "code",
   "execution_count": 9,
   "metadata": {},
   "outputs": [
    {
     "data": {
      "text/plain": [
       "array([[  1.,   1.,   1.,   1.,   1.],\n",
       "       [  1.,   3.,   9.,  27.,  81.],\n",
       "       [  1.,   4.,  16.,  64., 256.]])"
      ]
     },
     "execution_count": 9,
     "metadata": {},
     "output_type": "execute_result"
    }
   ],
   "source": [
    "PolynomialFeatures(degree=4).fit_transform(X=[\n",
    "    [1],\n",
    "    [3],\n",
    "    [4],\n",
    "])"
   ]
  },
  {
   "cell_type": "code",
   "execution_count": null,
   "metadata": {},
   "outputs": [],
   "source": [
    "def make_model(degree, alpha=0, penalty=None):\n",
    "    # linear regression\n",
    "    if alpha == 0:\n",
    "        regressor = LinearRegression(fit_intercept=False)\n",
    "    \n",
    "    # lasso regression\n",
    "    elif penalty == 'L1':\n",
    "        regressor = Lasso(fit_intercept=False, alpha=alpha, random_state=SEED, max_iter=50000)        \n",
    "    \n",
    "    # ridge regression\n",
    "    elif penalty == 'L2':\n",
    "        regressor = Ridge(fit_intercept=False, alpha=alpha, random_state=SEED, max_iter=50000)        \n",
    "    \n",
    "    return Pipeline([\n",
    "        ('pol', PolynomialFeatures(degree)),\n",
    "        ('sca', StandardScaler()),\n",
    "        ('reg', regressor)\n",
    "    ])\n",
    "\n",
    "display(make_model(2))\n",
    "display(make_model(2, penalty='L1', alpha=0.1))\n",
    "display(make_model(2, penalty='L2', alpha=0.1))"
   ]
  },
  {
   "cell_type": "code",
   "execution_count": null,
   "metadata": {},
   "outputs": [],
   "source": [
    "def plot_fit(model):\n",
    "    degree = model['pol'].degree\n",
    "    X_range = np.linspace(*RANGE, 1000).reshape(-1, 1)\n",
    "    y_pred = model.predict(X_range)\n",
    "    plot_scatter(X_train, y_train, label='Training sample')\n",
    "    plot_scatter(X_valid, y_valid, label='Validation sample')\n",
    "    plt.plot(X_range, target_function(X_range), c='green', alpha=0.2, lw=5, label='Target function')\n",
    "    plt.plot(X_range, y_pred, c='red', label='Hypothesis')\n",
    "    plt.ylim((min(y) - 3, max(y) + 3))\n",
    "    plt.legend(loc='best')    \n",
    "    plt.title(f'Polynomial approximation: degree={degree}')\n",
    "    plt.show()\n",
    "\n",
    "plot_fit(make_model(degree=2).fit(X_train, y_train))"
   ]
  },
  {
   "cell_type": "code",
   "execution_count": null,
   "metadata": {},
   "outputs": [],
   "source": [
    "for degree in [0, 1, 2, 3, 4, 5, 10, 15, 20]:\n",
    "    plot_fit(make_model(degree).fit(X_train, y_train))"
   ]
  },
  {
   "cell_type": "code",
   "execution_count": null,
   "metadata": {},
   "outputs": [],
   "source": [
    "def rmse(y_true, y_pred):\n",
    "    return np.sqrt(mean_squared_error(y_true, y_pred))\n",
    "\n",
    "def plot_fitting_graph(x, metric_train, metric_valid, xlabel, ylabel, \n",
    "                       custom_metric=None, custom_label='', custom_scale='log', title='Fitting graph'):\n",
    "    plt.figure(figsize=(9, 4.5))\n",
    "    plt.plot(x, metric_train, label='Training')\n",
    "    plt.plot(x, metric_valid, color='C1', label='Validation')\n",
    "    plt.axvline(x[np.argmin(metric_valid)], color='C1', lw=10, alpha=0.2)\n",
    "    plt.title(title)\n",
    "    plt.xlabel(xlabel)\n",
    "    plt.ylabel(ylabel)\n",
    "    plt.grid(True)\n",
    "    plt.xticks(x, rotation='vertical')\n",
    "    plt.legend(loc='center left')        \n",
    "    if custom_metric:\n",
    "        plt.twinx()\n",
    "        plt.yscale(custom_scale)\n",
    "        plt.plot(x, custom_metric, alpha=0.7, lw=4, ls='dotted', color='black', label=custom_label) \n",
    "        plt.legend(loc='center right')         \n",
    "    plt.show()\n",
    "    \n",
    "rmse_train, rmse_valid = [], []\n",
    "for degree in DEGREES:\n",
    "    reg = make_model(degree).fit(X_train, y_train)\n",
    "    rmse_train.append(rmse(reg.predict(X_train), y_train))\n",
    "    rmse_valid.append(rmse(reg.predict(X_valid), y_valid))\n",
    "    \n",
    "plot_fitting_graph(DEGREES, rmse_train, rmse_valid, xlabel='Complexity (degree)', ylabel='Error (RMSE)', \n",
    "                   title='Least squares polynomial regression')"
   ]
  },
  {
   "cell_type": "code",
   "execution_count": null,
   "metadata": {},
   "outputs": [],
   "source": [
    "DEGREES[np.argmin(rmse_valid)]\n"
   ]
  },
  {
   "cell_type": "code",
   "execution_count": null,
   "metadata": {},
   "outputs": [],
   "source": [
    "rmse_train, rmse_valid = [], []\n",
    "for degree in DEGREES:\n",
    "    results = cross_validate(make_model(degree), \n",
    "                             X, y, cv=5,\n",
    "                             return_train_score=True,\n",
    "                             scoring='neg_root_mean_squared_error')\n",
    "    rmse_train.append(-np.mean(results['train_score']))\n",
    "    rmse_valid.append(-np.mean(results['test_score']))\n",
    "    \n",
    "plot_fitting_graph(DEGREES, rmse_train, rmse_valid, xlabel='Complexity (degree)', ylabel='Error (RMSE)',\n",
    "                   title='Least squares polynomial regression')"
   ]
  },
  {
   "cell_type": "code",
   "execution_count": null,
   "metadata": {},
   "outputs": [],
   "source": [
    "(make_model(degree=1).fit(X_train, y_train)['reg'].coef_,\n",
    " make_model(degree=2).fit(X_train, y_train)['reg'].coef_,\n",
    " make_model(degree=5).fit(X_train, y_train)['reg'].coef_,\n",
    " make_model(degree=10).fit(X_train, y_train)['reg'].coef_)"
   ]
  },
  {
   "cell_type": "code",
   "execution_count": null,
   "metadata": {},
   "outputs": [],
   "source": [
    "rmse_train, rmse_valid, avg_coef = [], [], []\n",
    "for degree in DEGREES:\n",
    "    results = cross_validate(make_model(degree),\n",
    "                             X, y, cv=5,\n",
    "                             return_train_score=True, return_estimator=True,\n",
    "                             scoring='neg_root_mean_squared_error')\n",
    "    rmse_train.append(-np.mean(results['train_score']))\n",
    "    rmse_valid.append(-np.mean(results['test_score']))        \n",
    "    avg_coef.append(        \n",
    "        # average over CV folds\n",
    "        np.mean([            \n",
    "            # mean absolute value of weights\n",
    "            np.mean(np.abs(model['reg'].coef_))\n",
    "            for model in results['estimator']\n",
    "        ]))\n",
    "    \n",
    "plot_fitting_graph(DEGREES, rmse_train, rmse_valid,\n",
    "                   xlabel='Complexity (degree)', ylabel='Error (RMSE)',\n",
    "                   custom_metric=avg_coef, custom_label='avg(|$w_i$|)',\n",
    "                   title='Least squares polynomial regression')"
   ]
  },
  {
   "cell_type": "code",
   "execution_count": null,
   "metadata": {},
   "outputs": [],
   "source": [
    "\n",
    "rmse_train, rmse_valid = [], []\n",
    "for alpha in ALPHAS:    \n",
    "    results = cross_validate(make_model(degree=15, penalty='L1', alpha=alpha), \n",
    "                             X, y, cv=5,\n",
    "                             return_train_score=True,\n",
    "                             scoring='neg_root_mean_squared_error')\n",
    "    rmse_train.append(-np.mean(results['train_score']))\n",
    "    rmse_valid.append(-np.mean(results['test_score']))\n",
    "    \n",
    "plot_fitting_graph(ALPHAS, rmse_train, rmse_valid,\n",
    "                   xlabel='Regularization strength (alpha)', ylabel='Error (RMSE)',\n",
    "                   title='Lasso polynomial regression (L1): degree=15')"
   ]
  },
  {
   "cell_type": "code",
   "execution_count": null,
   "metadata": {},
   "outputs": [],
   "source": [
    "rmse_train, rmse_valid = [], []\n",
    "for alpha in ALPHAS:    \n",
    "    results = cross_validate(make_model(degree=15, penalty='L2', alpha=alpha), \n",
    "                             X, y, cv=5,\n",
    "                             return_train_score=True,\n",
    "                             scoring='neg_root_mean_squared_error')\n",
    "    rmse_train.append(-np.mean(results['train_score']))\n",
    "    rmse_valid.append(-np.mean(results['test_score']))\n",
    "    \n",
    "plot_fitting_graph(ALPHAS, rmse_train, rmse_valid, \n",
    "                   xlabel='Regularization strength (alpha)', ylabel='Error (RMSE)', \n",
    "                   title='Ridge polynomial regression (L2): degree=15')"
   ]
  },
  {
   "cell_type": "code",
   "execution_count": null,
   "metadata": {},
   "outputs": [],
   "source": [
    "#Homework Exercise 1"
   ]
  },
  {
   "cell_type": "code",
   "execution_count": 5,
   "metadata": {},
   "outputs": [
    {
     "ename": "NameError",
     "evalue": "name 'ALPHAS' is not defined",
     "output_type": "error",
     "traceback": [
      "\u001b[1;31m---------------------------------------------------------------------------\u001b[0m",
      "\u001b[1;31mNameError\u001b[0m                                 Traceback (most recent call last)",
      "\u001b[1;32m<ipython-input-5-323f8dbcefba>\u001b[0m in \u001b[0;36m<module>\u001b[1;34m\u001b[0m\n\u001b[0;32m      1\u001b[0m \u001b[1;31m#L1\u001b[0m\u001b[1;33m\u001b[0m\u001b[1;33m\u001b[0m\u001b[1;33m\u001b[0m\u001b[0m\n\u001b[0;32m      2\u001b[0m \u001b[0mrmse_train\u001b[0m\u001b[1;33m,\u001b[0m \u001b[0mrmse_valid\u001b[0m\u001b[1;33m,\u001b[0m \u001b[0mavg_coef\u001b[0m \u001b[1;33m=\u001b[0m \u001b[1;33m[\u001b[0m\u001b[1;33m]\u001b[0m\u001b[1;33m,\u001b[0m \u001b[1;33m[\u001b[0m\u001b[1;33m]\u001b[0m\u001b[1;33m,\u001b[0m \u001b[1;33m[\u001b[0m\u001b[1;33m]\u001b[0m\u001b[1;33m\u001b[0m\u001b[1;33m\u001b[0m\u001b[0m\n\u001b[1;32m----> 3\u001b[1;33m \u001b[1;32mfor\u001b[0m \u001b[0malpha\u001b[0m \u001b[1;32min\u001b[0m \u001b[0mALPHAS\u001b[0m\u001b[1;33m:\u001b[0m\u001b[1;33m\u001b[0m\u001b[1;33m\u001b[0m\u001b[0m\n\u001b[0m\u001b[0;32m      4\u001b[0m     results = cross_validate(make_model(degree=15, penalty='L1', alpha=alpha), \n\u001b[0;32m      5\u001b[0m                              \u001b[0mX\u001b[0m\u001b[1;33m,\u001b[0m \u001b[0my\u001b[0m\u001b[1;33m,\u001b[0m \u001b[0mcv\u001b[0m\u001b[1;33m=\u001b[0m\u001b[1;36m5\u001b[0m\u001b[1;33m,\u001b[0m\u001b[1;33m\u001b[0m\u001b[1;33m\u001b[0m\u001b[0m\n",
      "\u001b[1;31mNameError\u001b[0m: name 'ALPHAS' is not defined"
     ]
    }
   ],
   "source": [
    "#L1\n",
    "rmse_train, rmse_valid, avg_coef = [], [], []\n",
    "for alpha in ALPHAS:    \n",
    "    results = cross_validate(make_model(degree=15, penalty='L1', alpha=alpha), \n",
    "                             X, y, cv=5,\n",
    "                             return_train_score=True,return_estimator=True,\n",
    "                             scoring='neg_root_mean_squared_error')\n",
    "    rmse_train.append(-np.mean(results['train_score']))\n",
    "    rmse_valid.append(-np.mean(results['test_score']))        \n",
    "    avg_coef.append(        \n",
    "        np.mean([            \n",
    "            np.mean(np.abs(model['reg'].coef_))\n",
    "            for model in results['estimator']\n",
    "        ]))\n",
    "plot_fitting_graph(ALPHAS, rmse_train,rmse_valid,\n",
    "                   xlabel='Regularization strength (alpha)', ylabel='Error (RMSE)',\n",
    "                   custom_metric=avg_coef, custom_label='avg(|$w_0$|)',\n",
    "                   title='Lasso polynomial regression(L1): degree=15')"
   ]
  },
  {
   "cell_type": "code",
   "execution_count": null,
   "metadata": {},
   "outputs": [],
   "source": [
    "#L2\n",
    "rmse_train, rmse_valid, avg_coef = [], [], []\n",
    "for alpha in ALPHAS:    \n",
    "    results = cross_validate(make_model(degree=15, penalty='L2', alpha=alpha), \n",
    "                             X, y, cv=5,\n",
    "                             return_train_score=True,return_estimator=True,\n",
    "                             scoring='neg_root_mean_squared_error')\n",
    "    rmse_train.append(-np.mean(results['train_score']))\n",
    "    rmse_valid.append(-np.mean(results['test_score']))        \n",
    "    avg_coef.append(        \n",
    "        np.mean([            \n",
    "            np.mean(np.abs(model['reg'].coef_))\n",
    "            for model in results['estimator']\n",
    "        ]))\n",
    "plot_fitting_graph(ALPHAS, rmse_train,rmse_valid,\n",
    "                   xlabel='Regularization strength (alpha)', ylabel='Error (RMSE)',\n",
    "                   custom_metric=avg_coef, custom_label='avg(|$w_i$|)',\n",
    "                   title='Ridge polynomial regression(L2): degree=15')"
   ]
  },
  {
   "cell_type": "code",
   "execution_count": null,
   "metadata": {},
   "outputs": [],
   "source": [
    "#Homework Exercise 2"
   ]
  },
  {
   "cell_type": "code",
   "execution_count": 1,
   "metadata": {},
   "outputs": [],
   "source": [
    "def plot_fitting_graph_my(x, xlabel, ylabel, \n",
    "                       custom_metric=None, custom_label='', custom_scale='log', title='Fitting graph'):\n",
    "    plt.figure(figsize=(16, 8))\n",
    "    plt.title(title)\n",
    "    plt.xlabel(xlabel)\n",
    "    plt.ylabel(ylabel)\n",
    "    plt.grid(True)\n",
    "    plt.xticks(x, rotation='vertical')\n",
    "    anchor = (x, y)\n",
    "    colors=['r','g','b','black','gray','gold','navy','brown','coral','lime','tan','olive','c','darkred','indigo',]\n",
    "    if custom_metric:\n",
    "        for i,color_m,label_m in zip(custom_metric,colors,custom_label):\n",
    "            plt.yscale(custom_scale)\n",
    "            plt.plot(x,i,alpha=0.8, lw=2, color=color_m ,label=label_m)\n",
    "    plt.legend(anchor=(1,0.8))\n",
    "    plt.show()"
   ]
  },
  {
   "cell_type": "code",
   "execution_count": null,
   "metadata": {},
   "outputs": [],
   "source": [
    "#L1"
   ]
  },
  {
   "cell_type": "code",
   "execution_count": null,
   "metadata": {},
   "outputs": [],
   "source": [
    "coef,W,labels=[],[],[]\n",
    "for alpha in ALPHAS:\n",
    "    result=make_model(degree=15, penalty='L1', alpha=alpha).fit(X_train,y_train)\n",
    "    coef.append(np.abs(result['reg'].coef_))\n",
    "df=pd.DataFrame(coef, columns=range(16))\n",
    "for i in range(1,16,1):\n",
    "    W.append(df[i])\n",
    "    labels.append('coef(|$w_'+str(i)+'$|)')\n",
    "plot_fitting_graph_my(ALPHAS,\n",
    "                   xlabel='Regularization strength (alpha)', ylabel='Wieghts',\n",
    "                   custom_metric=W, custom_label=labels,\n",
    "                   title='Lasso coefficients as function  of regularization: degree=15')"
   ]
  },
  {
   "cell_type": "code",
   "execution_count": null,
   "metadata": {},
   "outputs": [],
   "source": [
    "#L2"
   ]
  },
  {
   "cell_type": "code",
   "execution_count": null,
   "metadata": {},
   "outputs": [],
   "source": [
    "coef,W,labels=[],[],[]\n",
    "for alpha in ALPHAS:\n",
    "    result=make_model(degree=15, penalty='L2', alpha=alpha).fit(X_train,y_train)\n",
    "    coef.append(np.abs(result['reg'].coef_))\n",
    "df=pd.DataFrame(coef)\n",
    "for i in range(1,16,1):\n",
    "    W.append((df[i]))\n",
    "    labels.append('coef(|$w_'+str(i)+'$|)')\n",
    "plot_fitting_graph_my(ALPHAS,\n",
    "                   xlabel='Regularization strength (alpha)', ylabel='Weights',\n",
    "                   custom_metric=W, custom_label=labels,\n",
    "                   title='Ridge coefficients as function  of regularization: degree=15')"
   ]
  },
  {
   "cell_type": "code",
   "execution_count": null,
   "metadata": {},
   "outputs": [],
   "source": [
    "#table with weights(degree,alpha) for Ridge.\n",
    "df.iloc[:,1:15]\n"
   ]
  },
  {
   "cell_type": "code",
   "execution_count": null,
   "metadata": {},
   "outputs": [],
   "source": []
  }
 ],
 "metadata": {
  "kernelspec": {
   "display_name": "Python 3",
   "language": "python",
   "name": "python3"
  },
  "language_info": {
   "codemirror_mode": {
    "name": "ipython",
    "version": 3
   },
   "file_extension": ".py",
   "mimetype": "text/x-python",
   "name": "python",
   "nbconvert_exporter": "python",
   "pygments_lexer": "ipython3",
   "version": "3.7.4"
  }
 },
 "nbformat": 4,
 "nbformat_minor": 2
}
